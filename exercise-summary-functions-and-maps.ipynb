{
 "cells": [
  {
   "cell_type": "markdown",
   "id": "a5fd6c04",
   "metadata": {
    "papermill": {
     "duration": 0.005893,
     "end_time": "2025-01-16T07:40:46.434010",
     "exception": false,
     "start_time": "2025-01-16T07:40:46.428117",
     "status": "completed"
    },
    "tags": []
   },
   "source": [
    "**This notebook is an exercise in the [Pandas](https://www.kaggle.com/learn/pandas) course.  You can reference the tutorial at [this link](https://www.kaggle.com/residentmario/summary-functions-and-maps).**\n",
    "\n",
    "---\n"
   ]
  },
  {
   "cell_type": "markdown",
   "id": "8a105292",
   "metadata": {
    "papermill": {
     "duration": 0.004727,
     "end_time": "2025-01-16T07:40:46.443980",
     "exception": false,
     "start_time": "2025-01-16T07:40:46.439253",
     "status": "completed"
    },
    "tags": []
   },
   "source": [
    "# Introduction\n",
    "\n",
    "Now you are ready to get a deeper understanding of your data.\n",
    "\n",
    "Run the following cell to load your data and some utility functions (including code to check your answers)."
   ]
  },
  {
   "cell_type": "code",
   "execution_count": 1,
   "id": "fa73773a",
   "metadata": {
    "execution": {
     "iopub.execute_input": "2025-01-16T07:40:46.455333Z",
     "iopub.status.busy": "2025-01-16T07:40:46.454962Z",
     "iopub.status.idle": "2025-01-16T07:40:53.328082Z",
     "shell.execute_reply": "2025-01-16T07:40:53.326719Z"
    },
    "papermill": {
     "duration": 6.88069,
     "end_time": "2025-01-16T07:40:53.329624",
     "exception": false,
     "start_time": "2025-01-16T07:40:46.448934",
     "status": "completed"
    },
    "tags": []
   },
   "outputs": [
    {
     "name": "stdout",
     "output_type": "stream",
     "text": [
      "Setup complete.\n"
     ]
    },
    {
     "name": "stderr",
     "output_type": "stream",
     "text": [
      "/usr/local/lib/python3.10/dist-packages/pandas/io/formats/format.py:1458: RuntimeWarning: invalid value encountered in greater\n",
      "  has_large_values = (abs_vals > 1e6).any()\n",
      "/usr/local/lib/python3.10/dist-packages/pandas/io/formats/format.py:1459: RuntimeWarning: invalid value encountered in less\n",
      "  has_small_values = ((abs_vals < 10 ** (-self.digits)) & (abs_vals > 0)).any()\n",
      "/usr/local/lib/python3.10/dist-packages/pandas/io/formats/format.py:1459: RuntimeWarning: invalid value encountered in greater\n",
      "  has_small_values = ((abs_vals < 10 ** (-self.digits)) & (abs_vals > 0)).any()\n"
     ]
    },
    {
     "data": {
      "text/html": [
       "<div>\n",
       "<style scoped>\n",
       "    .dataframe tbody tr th:only-of-type {\n",
       "        vertical-align: middle;\n",
       "    }\n",
       "\n",
       "    .dataframe tbody tr th {\n",
       "        vertical-align: top;\n",
       "    }\n",
       "\n",
       "    .dataframe thead th {\n",
       "        text-align: right;\n",
       "    }\n",
       "</style>\n",
       "<table border=\"1\" class=\"dataframe\">\n",
       "  <thead>\n",
       "    <tr style=\"text-align: right;\">\n",
       "      <th></th>\n",
       "      <th>country</th>\n",
       "      <th>description</th>\n",
       "      <th>designation</th>\n",
       "      <th>points</th>\n",
       "      <th>price</th>\n",
       "      <th>province</th>\n",
       "      <th>region_1</th>\n",
       "      <th>region_2</th>\n",
       "      <th>taster_name</th>\n",
       "      <th>taster_twitter_handle</th>\n",
       "      <th>title</th>\n",
       "      <th>variety</th>\n",
       "      <th>winery</th>\n",
       "    </tr>\n",
       "  </thead>\n",
       "  <tbody>\n",
       "    <tr>\n",
       "      <th>0</th>\n",
       "      <td>Italy</td>\n",
       "      <td>Aromas include tropical fruit, broom, brimston...</td>\n",
       "      <td>Vulkà Bianco</td>\n",
       "      <td>87</td>\n",
       "      <td>NaN</td>\n",
       "      <td>Sicily &amp; Sardinia</td>\n",
       "      <td>Etna</td>\n",
       "      <td>NaN</td>\n",
       "      <td>Kerin O’Keefe</td>\n",
       "      <td>@kerinokeefe</td>\n",
       "      <td>Nicosia 2013 Vulkà Bianco  (Etna)</td>\n",
       "      <td>White Blend</td>\n",
       "      <td>Nicosia</td>\n",
       "    </tr>\n",
       "    <tr>\n",
       "      <th>1</th>\n",
       "      <td>Portugal</td>\n",
       "      <td>This is ripe and fruity, a wine that is smooth...</td>\n",
       "      <td>Avidagos</td>\n",
       "      <td>87</td>\n",
       "      <td>15.0</td>\n",
       "      <td>Douro</td>\n",
       "      <td>NaN</td>\n",
       "      <td>NaN</td>\n",
       "      <td>Roger Voss</td>\n",
       "      <td>@vossroger</td>\n",
       "      <td>Quinta dos Avidagos 2011 Avidagos Red (Douro)</td>\n",
       "      <td>Portuguese Red</td>\n",
       "      <td>Quinta dos Avidagos</td>\n",
       "    </tr>\n",
       "    <tr>\n",
       "      <th>2</th>\n",
       "      <td>US</td>\n",
       "      <td>Tart and snappy, the flavors of lime flesh and...</td>\n",
       "      <td>NaN</td>\n",
       "      <td>87</td>\n",
       "      <td>14.0</td>\n",
       "      <td>Oregon</td>\n",
       "      <td>Willamette Valley</td>\n",
       "      <td>Willamette Valley</td>\n",
       "      <td>Paul Gregutt</td>\n",
       "      <td>@paulgwine</td>\n",
       "      <td>Rainstorm 2013 Pinot Gris (Willamette Valley)</td>\n",
       "      <td>Pinot Gris</td>\n",
       "      <td>Rainstorm</td>\n",
       "    </tr>\n",
       "    <tr>\n",
       "      <th>3</th>\n",
       "      <td>US</td>\n",
       "      <td>Pineapple rind, lemon pith and orange blossom ...</td>\n",
       "      <td>Reserve Late Harvest</td>\n",
       "      <td>87</td>\n",
       "      <td>13.0</td>\n",
       "      <td>Michigan</td>\n",
       "      <td>Lake Michigan Shore</td>\n",
       "      <td>NaN</td>\n",
       "      <td>Alexander Peartree</td>\n",
       "      <td>NaN</td>\n",
       "      <td>St. Julian 2013 Reserve Late Harvest Riesling ...</td>\n",
       "      <td>Riesling</td>\n",
       "      <td>St. Julian</td>\n",
       "    </tr>\n",
       "    <tr>\n",
       "      <th>4</th>\n",
       "      <td>US</td>\n",
       "      <td>Much like the regular bottling from 2012, this...</td>\n",
       "      <td>Vintner's Reserve Wild Child Block</td>\n",
       "      <td>87</td>\n",
       "      <td>65.0</td>\n",
       "      <td>Oregon</td>\n",
       "      <td>Willamette Valley</td>\n",
       "      <td>Willamette Valley</td>\n",
       "      <td>Paul Gregutt</td>\n",
       "      <td>@paulgwine</td>\n",
       "      <td>Sweet Cheeks 2012 Vintner's Reserve Wild Child...</td>\n",
       "      <td>Pinot Noir</td>\n",
       "      <td>Sweet Cheeks</td>\n",
       "    </tr>\n",
       "  </tbody>\n",
       "</table>\n",
       "</div>"
      ],
      "text/plain": [
       "    country                                        description  \\\n",
       "0     Italy  Aromas include tropical fruit, broom, brimston...   \n",
       "1  Portugal  This is ripe and fruity, a wine that is smooth...   \n",
       "2        US  Tart and snappy, the flavors of lime flesh and...   \n",
       "3        US  Pineapple rind, lemon pith and orange blossom ...   \n",
       "4        US  Much like the regular bottling from 2012, this...   \n",
       "\n",
       "                          designation  points  price           province  \\\n",
       "0                        Vulkà Bianco      87    NaN  Sicily & Sardinia   \n",
       "1                            Avidagos      87   15.0              Douro   \n",
       "2                                 NaN      87   14.0             Oregon   \n",
       "3                Reserve Late Harvest      87   13.0           Michigan   \n",
       "4  Vintner's Reserve Wild Child Block      87   65.0             Oregon   \n",
       "\n",
       "              region_1           region_2         taster_name  \\\n",
       "0                 Etna                NaN       Kerin O’Keefe   \n",
       "1                  NaN                NaN          Roger Voss   \n",
       "2    Willamette Valley  Willamette Valley        Paul Gregutt   \n",
       "3  Lake Michigan Shore                NaN  Alexander Peartree   \n",
       "4    Willamette Valley  Willamette Valley        Paul Gregutt   \n",
       "\n",
       "  taster_twitter_handle                                              title  \\\n",
       "0          @kerinokeefe                  Nicosia 2013 Vulkà Bianco  (Etna)   \n",
       "1            @vossroger      Quinta dos Avidagos 2011 Avidagos Red (Douro)   \n",
       "2           @paulgwine       Rainstorm 2013 Pinot Gris (Willamette Valley)   \n",
       "3                   NaN  St. Julian 2013 Reserve Late Harvest Riesling ...   \n",
       "4           @paulgwine   Sweet Cheeks 2012 Vintner's Reserve Wild Child...   \n",
       "\n",
       "          variety               winery  \n",
       "0     White Blend              Nicosia  \n",
       "1  Portuguese Red  Quinta dos Avidagos  \n",
       "2      Pinot Gris            Rainstorm  \n",
       "3        Riesling           St. Julian  \n",
       "4      Pinot Noir         Sweet Cheeks  "
      ]
     },
     "execution_count": 1,
     "metadata": {},
     "output_type": "execute_result"
    }
   ],
   "source": [
    "import pandas as pd\n",
    "pd.set_option(\"display.max_rows\", 5)\n",
    "reviews = pd.read_csv(\"../input/wine-reviews/winemag-data-130k-v2.csv\", index_col=0)\n",
    "\n",
    "from learntools.core import binder; binder.bind(globals())\n",
    "from learntools.pandas.summary_functions_and_maps import *\n",
    "print(\"Setup complete.\")\n",
    "\n",
    "reviews.head()"
   ]
  },
  {
   "cell_type": "markdown",
   "id": "fdf2dbe4",
   "metadata": {
    "papermill": {
     "duration": 0.005084,
     "end_time": "2025-01-16T07:40:53.340458",
     "exception": false,
     "start_time": "2025-01-16T07:40:53.335374",
     "status": "completed"
    },
    "tags": []
   },
   "source": [
    "# Exercises"
   ]
  },
  {
   "cell_type": "markdown",
   "id": "067ae075",
   "metadata": {
    "papermill": {
     "duration": 0.00499,
     "end_time": "2025-01-16T07:40:53.350885",
     "exception": false,
     "start_time": "2025-01-16T07:40:53.345895",
     "status": "completed"
    },
    "tags": []
   },
   "source": [
    "## 1.\n",
    "\n",
    "What is the median of the `points` column in the `reviews` DataFrame?"
   ]
  },
  {
   "cell_type": "code",
   "execution_count": 2,
   "id": "28f1b4a7",
   "metadata": {
    "execution": {
     "iopub.execute_input": "2025-01-16T07:40:53.363066Z",
     "iopub.status.busy": "2025-01-16T07:40:53.362623Z",
     "iopub.status.idle": "2025-01-16T07:40:53.371093Z",
     "shell.execute_reply": "2025-01-16T07:40:53.370057Z"
    },
    "papermill": {
     "duration": 0.016459,
     "end_time": "2025-01-16T07:40:53.372721",
     "exception": false,
     "start_time": "2025-01-16T07:40:53.356262",
     "status": "completed"
    },
    "tags": []
   },
   "outputs": [
    {
     "data": {
      "application/javascript": [
       "parent.postMessage({\"jupyterEvent\": \"custom.exercise_interaction\", \"data\": {\"outcomeType\": 1, \"valueTowardsCompletion\": 0.14285714285714285, \"interactionType\": 1, \"questionType\": 1, \"questionId\": \"1_MedianPoints\", \"learnToolsVersion\": \"0.3.4\", \"failureMessage\": \"\", \"exceptionClass\": \"\", \"trace\": \"\"}}, \"*\")"
      ],
      "text/plain": [
       "<IPython.core.display.Javascript object>"
      ]
     },
     "metadata": {},
     "output_type": "display_data"
    },
    {
     "data": {
      "text/markdown": [
       "<span style=\"color:#33cc33\">Correct</span>"
      ],
      "text/plain": [
       "Correct"
      ]
     },
     "metadata": {},
     "output_type": "display_data"
    }
   ],
   "source": [
    "# median_points = reviews.points.median()\n",
    "# OR\n",
    "median_points = reviews['points'].median()\n",
    "\n",
    "# Check your answer\n",
    "q1.check()"
   ]
  },
  {
   "cell_type": "code",
   "execution_count": 3,
   "id": "4bf09cb7",
   "metadata": {
    "execution": {
     "iopub.execute_input": "2025-01-16T07:40:53.386125Z",
     "iopub.status.busy": "2025-01-16T07:40:53.385752Z",
     "iopub.status.idle": "2025-01-16T07:40:53.389686Z",
     "shell.execute_reply": "2025-01-16T07:40:53.388746Z"
    },
    "papermill": {
     "duration": 0.012477,
     "end_time": "2025-01-16T07:40:53.391328",
     "exception": false,
     "start_time": "2025-01-16T07:40:53.378851",
     "status": "completed"
    },
    "tags": []
   },
   "outputs": [],
   "source": [
    "#q1.hint()\n",
    "#q1.solution()"
   ]
  },
  {
   "cell_type": "markdown",
   "id": "f4235358",
   "metadata": {
    "papermill": {
     "duration": 0.005445,
     "end_time": "2025-01-16T07:40:53.402747",
     "exception": false,
     "start_time": "2025-01-16T07:40:53.397302",
     "status": "completed"
    },
    "tags": []
   },
   "source": [
    "## 2. \n",
    "What countries are represented in the dataset? (Your answer should not include any duplicates.)"
   ]
  },
  {
   "cell_type": "code",
   "execution_count": 4,
   "id": "b5367fc6",
   "metadata": {
    "execution": {
     "iopub.execute_input": "2025-01-16T07:40:53.415392Z",
     "iopub.status.busy": "2025-01-16T07:40:53.415047Z",
     "iopub.status.idle": "2025-01-16T07:40:53.427477Z",
     "shell.execute_reply": "2025-01-16T07:40:53.426209Z"
    },
    "papermill": {
     "duration": 0.02079,
     "end_time": "2025-01-16T07:40:53.429302",
     "exception": false,
     "start_time": "2025-01-16T07:40:53.408512",
     "status": "completed"
    },
    "tags": []
   },
   "outputs": [
    {
     "data": {
      "application/javascript": [
       "parent.postMessage({\"jupyterEvent\": \"custom.exercise_interaction\", \"data\": {\"outcomeType\": 1, \"valueTowardsCompletion\": 0.14285714285714285, \"interactionType\": 1, \"questionType\": 2, \"questionId\": \"2_UniqueCountries\", \"learnToolsVersion\": \"0.3.4\", \"failureMessage\": \"\", \"exceptionClass\": \"\", \"trace\": \"\"}}, \"*\")"
      ],
      "text/plain": [
       "<IPython.core.display.Javascript object>"
      ]
     },
     "metadata": {},
     "output_type": "display_data"
    },
    {
     "data": {
      "text/markdown": [
       "<span style=\"color:#33cc33\">Correct</span>"
      ],
      "text/plain": [
       "Correct"
      ]
     },
     "metadata": {},
     "output_type": "display_data"
    }
   ],
   "source": [
    "# countries = reviews.country.unique()\n",
    "# OR\n",
    "countries =reviews['country'].unique()\n",
    "\n",
    "# Check your answer\n",
    "q2.check()"
   ]
  },
  {
   "cell_type": "code",
   "execution_count": 5,
   "id": "25d77e42",
   "metadata": {
    "execution": {
     "iopub.execute_input": "2025-01-16T07:40:53.442818Z",
     "iopub.status.busy": "2025-01-16T07:40:53.442402Z",
     "iopub.status.idle": "2025-01-16T07:40:53.446198Z",
     "shell.execute_reply": "2025-01-16T07:40:53.445157Z"
    },
    "papermill": {
     "duration": 0.012491,
     "end_time": "2025-01-16T07:40:53.447909",
     "exception": false,
     "start_time": "2025-01-16T07:40:53.435418",
     "status": "completed"
    },
    "tags": []
   },
   "outputs": [],
   "source": [
    "#q2.hint()\n",
    "#q2.solution()"
   ]
  },
  {
   "cell_type": "markdown",
   "id": "ba0b245d",
   "metadata": {
    "papermill": {
     "duration": 0.005604,
     "end_time": "2025-01-16T07:40:53.459679",
     "exception": false,
     "start_time": "2025-01-16T07:40:53.454075",
     "status": "completed"
    },
    "tags": []
   },
   "source": [
    "## 3.\n",
    "How often does each country appear in the dataset? Create a Series `reviews_per_country` mapping countries to the count of reviews of wines from that country."
   ]
  },
  {
   "cell_type": "code",
   "execution_count": 6,
   "id": "33d4eba9",
   "metadata": {
    "execution": {
     "iopub.execute_input": "2025-01-16T07:40:53.474146Z",
     "iopub.status.busy": "2025-01-16T07:40:53.473754Z",
     "iopub.status.idle": "2025-01-16T07:40:53.492370Z",
     "shell.execute_reply": "2025-01-16T07:40:53.491358Z"
    },
    "papermill": {
     "duration": 0.02759,
     "end_time": "2025-01-16T07:40:53.493883",
     "exception": false,
     "start_time": "2025-01-16T07:40:53.466293",
     "status": "completed"
    },
    "tags": []
   },
   "outputs": [
    {
     "data": {
      "application/javascript": [
       "parent.postMessage({\"jupyterEvent\": \"custom.exercise_interaction\", \"data\": {\"outcomeType\": 1, \"valueTowardsCompletion\": 0.14285714285714285, \"interactionType\": 1, \"questionType\": 1, \"questionId\": \"3_ReviewsPerCountry\", \"learnToolsVersion\": \"0.3.4\", \"failureMessage\": \"\", \"exceptionClass\": \"\", \"trace\": \"\"}}, \"*\")"
      ],
      "text/plain": [
       "<IPython.core.display.Javascript object>"
      ]
     },
     "metadata": {},
     "output_type": "display_data"
    },
    {
     "data": {
      "text/markdown": [
       "<span style=\"color:#33cc33\">Correct</span>"
      ],
      "text/plain": [
       "Correct"
      ]
     },
     "metadata": {},
     "output_type": "display_data"
    }
   ],
   "source": [
    "reviews_per_country = reviews.country.value_counts()\n",
    "\n",
    "# Check your answer\n",
    "q3.check()"
   ]
  },
  {
   "cell_type": "code",
   "execution_count": 7,
   "id": "2f0bfd90",
   "metadata": {
    "execution": {
     "iopub.execute_input": "2025-01-16T07:40:53.509965Z",
     "iopub.status.busy": "2025-01-16T07:40:53.509394Z",
     "iopub.status.idle": "2025-01-16T07:40:53.514072Z",
     "shell.execute_reply": "2025-01-16T07:40:53.512888Z"
    },
    "papermill": {
     "duration": 0.015705,
     "end_time": "2025-01-16T07:40:53.515702",
     "exception": false,
     "start_time": "2025-01-16T07:40:53.499997",
     "status": "completed"
    },
    "tags": []
   },
   "outputs": [],
   "source": [
    "#q3.hint()\n",
    "#q3.solution()"
   ]
  },
  {
   "cell_type": "markdown",
   "id": "f21c5fdf",
   "metadata": {
    "papermill": {
     "duration": 0.005991,
     "end_time": "2025-01-16T07:40:53.528205",
     "exception": false,
     "start_time": "2025-01-16T07:40:53.522214",
     "status": "completed"
    },
    "tags": []
   },
   "source": [
    "## 4.\n",
    "Create variable `centered_price` containing a version of the `price` column with the mean price subtracted.\n",
    "\n",
    "(Note: this 'centering' transformation is a common preprocessing step before applying various machine learning algorithms.) "
   ]
  },
  {
   "cell_type": "code",
   "execution_count": 8,
   "id": "80bbbaa1",
   "metadata": {
    "execution": {
     "iopub.execute_input": "2025-01-16T07:40:53.541713Z",
     "iopub.status.busy": "2025-01-16T07:40:53.541356Z",
     "iopub.status.idle": "2025-01-16T07:40:53.551330Z",
     "shell.execute_reply": "2025-01-16T07:40:53.550325Z"
    },
    "papermill": {
     "duration": 0.018906,
     "end_time": "2025-01-16T07:40:53.553215",
     "exception": false,
     "start_time": "2025-01-16T07:40:53.534309",
     "status": "completed"
    },
    "tags": []
   },
   "outputs": [
    {
     "data": {
      "application/javascript": [
       "parent.postMessage({\"jupyterEvent\": \"custom.exercise_interaction\", \"data\": {\"outcomeType\": 1, \"valueTowardsCompletion\": 0.14285714285714285, \"interactionType\": 1, \"questionType\": 1, \"questionId\": \"4_CenteredPrice\", \"learnToolsVersion\": \"0.3.4\", \"failureMessage\": \"\", \"exceptionClass\": \"\", \"trace\": \"\"}}, \"*\")"
      ],
      "text/plain": [
       "<IPython.core.display.Javascript object>"
      ]
     },
     "metadata": {},
     "output_type": "display_data"
    },
    {
     "data": {
      "text/markdown": [
       "<span style=\"color:#33cc33\">Correct</span>"
      ],
      "text/plain": [
       "Correct"
      ]
     },
     "metadata": {},
     "output_type": "display_data"
    }
   ],
   "source": [
    "centered_price = reviews.price - reviews.price.mean()\n",
    "\n",
    "\n",
    "# Check your answer\n",
    "q4.check()"
   ]
  },
  {
   "cell_type": "code",
   "execution_count": 9,
   "id": "edbad355",
   "metadata": {
    "execution": {
     "iopub.execute_input": "2025-01-16T07:40:53.567440Z",
     "iopub.status.busy": "2025-01-16T07:40:53.567119Z",
     "iopub.status.idle": "2025-01-16T07:40:53.570818Z",
     "shell.execute_reply": "2025-01-16T07:40:53.569872Z"
    },
    "papermill": {
     "duration": 0.01263,
     "end_time": "2025-01-16T07:40:53.572499",
     "exception": false,
     "start_time": "2025-01-16T07:40:53.559869",
     "status": "completed"
    },
    "tags": []
   },
   "outputs": [],
   "source": [
    "#q4.hint()\n",
    "#q4.solution()"
   ]
  },
  {
   "cell_type": "markdown",
   "id": "3a12ed19",
   "metadata": {
    "papermill": {
     "duration": 0.006352,
     "end_time": "2025-01-16T07:40:53.585410",
     "exception": false,
     "start_time": "2025-01-16T07:40:53.579058",
     "status": "completed"
    },
    "tags": []
   },
   "source": [
    "## 5.\n",
    "I'm an economical wine buyer. Which wine is the \"best bargain\"? Create a variable `bargain_wine` with the title of the wine with the highest points-to-price ratio in the dataset."
   ]
  },
  {
   "cell_type": "code",
   "execution_count": 10,
   "id": "dbd1e0f9",
   "metadata": {
    "execution": {
     "iopub.execute_input": "2025-01-16T07:40:53.599289Z",
     "iopub.status.busy": "2025-01-16T07:40:53.598964Z",
     "iopub.status.idle": "2025-01-16T07:40:53.619553Z",
     "shell.execute_reply": "2025-01-16T07:40:53.618561Z"
    },
    "papermill": {
     "duration": 0.029546,
     "end_time": "2025-01-16T07:40:53.621229",
     "exception": false,
     "start_time": "2025-01-16T07:40:53.591683",
     "status": "completed"
    },
    "tags": []
   },
   "outputs": [
    {
     "data": {
      "application/javascript": [
       "parent.postMessage({\"jupyterEvent\": \"custom.exercise_interaction\", \"data\": {\"outcomeType\": 1, \"valueTowardsCompletion\": 0.14285714285714285, \"interactionType\": 1, \"questionType\": 2, \"questionId\": \"5_BargainWine\", \"learnToolsVersion\": \"0.3.4\", \"failureMessage\": \"\", \"exceptionClass\": \"\", \"trace\": \"\"}}, \"*\")"
      ],
      "text/plain": [
       "<IPython.core.display.Javascript object>"
      ]
     },
     "metadata": {},
     "output_type": "display_data"
    },
    {
     "data": {
      "text/markdown": [
       "<span style=\"color:#33cc33\">Correct</span>"
      ],
      "text/plain": [
       "Correct"
      ]
     },
     "metadata": {},
     "output_type": "display_data"
    }
   ],
   "source": [
    "# Calculate the points-to-price ratio\n",
    "price_to_points_ratio=reviews.points/reviews.price\n",
    "# Find the index of the maximum ratio\n",
    "max_ratio_index= price_to_points_ratio.idxmax()\n",
    "# Use the index to get the title of the wine with the highest ratiof\n",
    "bargain_wine = reviews.loc[max_ratio_index, 'title']\n",
    "\n",
    "# Check your answer\n",
    "q5.check()"
   ]
  },
  {
   "cell_type": "code",
   "execution_count": 11,
   "id": "46e4ab28",
   "metadata": {
    "execution": {
     "iopub.execute_input": "2025-01-16T07:40:53.637847Z",
     "iopub.status.busy": "2025-01-16T07:40:53.637454Z",
     "iopub.status.idle": "2025-01-16T07:40:53.641277Z",
     "shell.execute_reply": "2025-01-16T07:40:53.640140Z"
    },
    "papermill": {
     "duration": 0.013322,
     "end_time": "2025-01-16T07:40:53.643120",
     "exception": false,
     "start_time": "2025-01-16T07:40:53.629798",
     "status": "completed"
    },
    "tags": []
   },
   "outputs": [],
   "source": [
    "#q5.hint()\n",
    "#q5.solution()"
   ]
  },
  {
   "cell_type": "markdown",
   "id": "010b167c",
   "metadata": {
    "papermill": {
     "duration": 0.009326,
     "end_time": "2025-01-16T07:40:53.659324",
     "exception": false,
     "start_time": "2025-01-16T07:40:53.649998",
     "status": "completed"
    },
    "tags": []
   },
   "source": [
    "## 6.\n",
    "There are only so many words you can use when describing a bottle of wine. Is a wine more likely to be \"tropical\" or \"fruity\"? Create a Series `descriptor_counts` counting how many times each of these two words appears in the `description` column in the dataset. (For simplicity, let's ignore the capitalized versions of these words.)"
   ]
  },
  {
   "cell_type": "code",
   "execution_count": 12,
   "id": "52967ba7",
   "metadata": {
    "execution": {
     "iopub.execute_input": "2025-01-16T07:40:53.674207Z",
     "iopub.status.busy": "2025-01-16T07:40:53.673644Z",
     "iopub.status.idle": "2025-01-16T07:40:53.811987Z",
     "shell.execute_reply": "2025-01-16T07:40:53.810926Z"
    },
    "papermill": {
     "duration": 0.147824,
     "end_time": "2025-01-16T07:40:53.813863",
     "exception": false,
     "start_time": "2025-01-16T07:40:53.666039",
     "status": "completed"
    },
    "tags": []
   },
   "outputs": [
    {
     "data": {
      "application/javascript": [
       "parent.postMessage({\"jupyterEvent\": \"custom.exercise_interaction\", \"data\": {\"outcomeType\": 1, \"valueTowardsCompletion\": 0.14285714285714285, \"interactionType\": 1, \"questionType\": 1, \"questionId\": \"6_DescriptorCounts\", \"learnToolsVersion\": \"0.3.4\", \"failureMessage\": \"\", \"exceptionClass\": \"\", \"trace\": \"\"}}, \"*\")"
      ],
      "text/plain": [
       "<IPython.core.display.Javascript object>"
      ]
     },
     "metadata": {},
     "output_type": "display_data"
    },
    {
     "data": {
      "text/markdown": [
       "<span style=\"color:#33cc33\">Correct</span>"
      ],
      "text/plain": [
       "Correct"
      ]
     },
     "metadata": {},
     "output_type": "display_data"
    }
   ],
   "source": [
    "# tropical and fruity counts\n",
    "tropical_count=reviews.description.map(lambda d:\"tropical\"in d).sum()\n",
    "fruity_count=reviews.description.map(lambda d:\"fruity\"in d).sum()\n",
    "\n",
    "descriptor_counts = pd.Series([tropical_count,fruity_count], index=['tropical', 'fruity'])\n",
    "# Check your answer\n",
    "q6.check()"
   ]
  },
  {
   "cell_type": "code",
   "execution_count": 13,
   "id": "08025c3d",
   "metadata": {
    "execution": {
     "iopub.execute_input": "2025-01-16T07:40:53.829322Z",
     "iopub.status.busy": "2025-01-16T07:40:53.828941Z",
     "iopub.status.idle": "2025-01-16T07:40:53.832643Z",
     "shell.execute_reply": "2025-01-16T07:40:53.831615Z"
    },
    "papermill": {
     "duration": 0.013506,
     "end_time": "2025-01-16T07:40:53.834508",
     "exception": false,
     "start_time": "2025-01-16T07:40:53.821002",
     "status": "completed"
    },
    "tags": []
   },
   "outputs": [],
   "source": [
    "#q6.hint()\n",
    "# q6.solution()"
   ]
  },
  {
   "cell_type": "markdown",
   "id": "fd81ef83",
   "metadata": {
    "papermill": {
     "duration": 0.006639,
     "end_time": "2025-01-16T07:40:53.848292",
     "exception": false,
     "start_time": "2025-01-16T07:40:53.841653",
     "status": "completed"
    },
    "tags": []
   },
   "source": [
    "## 7.\n",
    "We'd like to host these wine reviews on our website, but a rating system ranging from 80 to 100 points is too hard to understand - we'd like to translate them into simple star ratings. A score of 95 or higher counts as 3 stars, a score of at least 85 but less than 95 is 2 stars. Any other score is 1 star.\n",
    "\n",
    "Also, the Canadian Vintners Association bought a lot of ads on the site, so any wines from Canada should automatically get 3 stars, regardless of points.\n",
    "\n",
    "Create a series `star_ratings` with the number of stars corresponding to each review in the dataset."
   ]
  },
  {
   "cell_type": "code",
   "execution_count": 14,
   "id": "73089446",
   "metadata": {
    "execution": {
     "iopub.execute_input": "2025-01-16T07:40:53.863285Z",
     "iopub.status.busy": "2025-01-16T07:40:53.862904Z",
     "iopub.status.idle": "2025-01-16T07:40:56.730960Z",
     "shell.execute_reply": "2025-01-16T07:40:56.729868Z"
    },
    "papermill": {
     "duration": 2.877343,
     "end_time": "2025-01-16T07:40:56.732454",
     "exception": false,
     "start_time": "2025-01-16T07:40:53.855111",
     "status": "completed"
    },
    "tags": []
   },
   "outputs": [
    {
     "data": {
      "application/javascript": [
       "parent.postMessage({\"jupyterEvent\": \"custom.exercise_interaction\", \"data\": {\"outcomeType\": 1, \"valueTowardsCompletion\": 0.14285714285714285, \"interactionType\": 1, \"questionType\": 1, \"questionId\": \"7_StarRatings\", \"learnToolsVersion\": \"0.3.4\", \"failureMessage\": \"\", \"exceptionClass\": \"\", \"trace\": \"\"}}, \"*\")"
      ],
      "text/plain": [
       "<IPython.core.display.Javascript object>"
      ]
     },
     "metadata": {},
     "output_type": "display_data"
    },
    {
     "data": {
      "text/markdown": [
       "<span style=\"color:#33cc33\">Correct</span>"
      ],
      "text/plain": [
       "Correct"
      ]
     },
     "metadata": {},
     "output_type": "display_data"
    }
   ],
   "source": [
    "# create a function\n",
    "def rating_system(row):\n",
    "    if row.country=='Canada':\n",
    "        return 3\n",
    "    elif row.points>=95:\n",
    "        return 3\n",
    "    elif row.points>=85:\n",
    "        return 2\n",
    "    else:\n",
    "        return 1\n",
    "# call a function to call each row\n",
    "\n",
    "star_ratings = reviews.apply(rating_system, axis='columns')\n",
    "\n",
    "# Check your answer\n",
    "q7.check()"
   ]
  },
  {
   "cell_type": "code",
   "execution_count": 15,
   "id": "aaa3bd0b",
   "metadata": {
    "execution": {
     "iopub.execute_input": "2025-01-16T07:40:56.747803Z",
     "iopub.status.busy": "2025-01-16T07:40:56.747453Z",
     "iopub.status.idle": "2025-01-16T07:40:56.754088Z",
     "shell.execute_reply": "2025-01-16T07:40:56.753107Z"
    },
    "papermill": {
     "duration": 0.016025,
     "end_time": "2025-01-16T07:40:56.755580",
     "exception": false,
     "start_time": "2025-01-16T07:40:56.739555",
     "status": "completed"
    },
    "tags": []
   },
   "outputs": [
    {
     "data": {
      "application/javascript": [
       "parent.postMessage({\"jupyterEvent\": \"custom.exercise_interaction\", \"data\": {\"interactionType\": 3, \"questionType\": 1, \"questionId\": \"7_StarRatings\", \"learnToolsVersion\": \"0.3.4\", \"valueTowardsCompletion\": 0.0, \"failureMessage\": \"\", \"exceptionClass\": \"\", \"trace\": \"\", \"outcomeType\": 4}}, \"*\")"
      ],
      "text/plain": [
       "<IPython.core.display.Javascript object>"
      ]
     },
     "metadata": {},
     "output_type": "display_data"
    },
    {
     "data": {
      "text/markdown": [
       "<span style=\"color:#33cc99\">Solution:</span> \n",
       "```python\n",
       "def stars(row):\n",
       "    if row.country == 'Canada':\n",
       "        return 3\n",
       "    elif row.points >= 95:\n",
       "        return 3\n",
       "    elif row.points >= 85:\n",
       "        return 2\n",
       "    else:\n",
       "        return 1\n",
       "    \n",
       "star_ratings = reviews.apply(stars, axis='columns')\n",
       "```"
      ],
      "text/plain": [
       "Solution: \n",
       "```python\n",
       "def stars(row):\n",
       "    if row.country == 'Canada':\n",
       "        return 3\n",
       "    elif row.points >= 95:\n",
       "        return 3\n",
       "    elif row.points >= 85:\n",
       "        return 2\n",
       "    else:\n",
       "        return 1\n",
       "    \n",
       "star_ratings = reviews.apply(stars, axis='columns')\n",
       "```"
      ]
     },
     "metadata": {},
     "output_type": "display_data"
    }
   ],
   "source": [
    "#q7.hint()\n",
    "q7.solution()"
   ]
  },
  {
   "cell_type": "markdown",
   "id": "30be6c76",
   "metadata": {
    "papermill": {
     "duration": 0.006884,
     "end_time": "2025-01-16T07:40:56.769858",
     "exception": false,
     "start_time": "2025-01-16T07:40:56.762974",
     "status": "completed"
    },
    "tags": []
   },
   "source": [
    "# Keep going\n",
    "Continue to **[grouping and sorting](https://www.kaggle.com/residentmario/grouping-and-sorting)**."
   ]
  },
  {
   "cell_type": "markdown",
   "id": "18469d6f",
   "metadata": {
    "papermill": {
     "duration": 0.006746,
     "end_time": "2025-01-16T07:40:56.783623",
     "exception": false,
     "start_time": "2025-01-16T07:40:56.776877",
     "status": "completed"
    },
    "tags": []
   },
   "source": [
    "---\n",
    "\n",
    "\n",
    "\n",
    "\n",
    "*Have questions or comments? Visit the [course discussion forum](https://www.kaggle.com/learn/pandas/discussion) to chat with other learners.*"
   ]
  }
 ],
 "metadata": {
  "kaggle": {
   "accelerator": "none",
   "dataSources": [
    {
     "datasetId": 655,
     "sourceId": 1252,
     "sourceType": "datasetVersion"
    },
    {
     "datasetId": 2321,
     "sourceId": 3919,
     "sourceType": "datasetVersion"
    },
    {
     "datasetId": 2894,
     "sourceId": 4877,
     "sourceType": "datasetVersion"
    },
    {
     "datasetId": 3491,
     "sourceId": 5624,
     "sourceType": "datasetVersion"
    },
    {
     "datasetId": 1442,
     "sourceId": 8172,
     "sourceType": "datasetVersion"
    },
    {
     "datasetId": 9366,
     "sourceId": 13206,
     "sourceType": "datasetVersion"
    },
    {
     "datasetId": 179555,
     "sourceId": 403916,
     "sourceType": "datasetVersion"
    },
    {
     "datasetId": 4549,
     "sourceId": 466349,
     "sourceType": "datasetVersion"
    },
    {
     "datasetId": 2478,
     "sourceId": 1151655,
     "sourceType": "datasetVersion"
    },
    {
     "datasetId": 10128,
     "sourceId": 5438389,
     "sourceType": "datasetVersion"
    }
   ],
   "isGpuEnabled": false,
   "isInternetEnabled": false,
   "language": "python",
   "sourceType": "notebook"
  },
  "kernelspec": {
   "display_name": "Python 3",
   "language": "python",
   "name": "python3"
  },
  "language_info": {
   "codemirror_mode": {
    "name": "ipython",
    "version": 3
   },
   "file_extension": ".py",
   "mimetype": "text/x-python",
   "name": "python",
   "nbconvert_exporter": "python",
   "pygments_lexer": "ipython3",
   "version": "3.10.12"
  },
  "papermill": {
   "default_parameters": {},
   "duration": 13.691533,
   "end_time": "2025-01-16T07:40:57.409660",
   "environment_variables": {},
   "exception": null,
   "input_path": "__notebook__.ipynb",
   "output_path": "__notebook__.ipynb",
   "parameters": {},
   "start_time": "2025-01-16T07:40:43.718127",
   "version": "2.6.0"
  }
 },
 "nbformat": 4,
 "nbformat_minor": 5
}
