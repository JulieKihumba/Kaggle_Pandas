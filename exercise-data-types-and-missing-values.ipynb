{
 "cells": [
  {
   "cell_type": "markdown",
   "id": "4b6daba6",
   "metadata": {
    "papermill": {
     "duration": 0.004976,
     "end_time": "2025-01-17T08:17:40.833823",
     "exception": false,
     "start_time": "2025-01-17T08:17:40.828847",
     "status": "completed"
    },
    "tags": []
   },
   "source": [
    "**This notebook is an exercise in the [Pandas](https://www.kaggle.com/learn/pandas) course.  You can reference the tutorial at [this link](https://www.kaggle.com/residentmario/data-types-and-missing-values).**\n",
    "\n",
    "---\n"
   ]
  },
  {
   "cell_type": "markdown",
   "id": "1088f8d5",
   "metadata": {
    "papermill": {
     "duration": 0.003542,
     "end_time": "2025-01-17T08:17:40.841446",
     "exception": false,
     "start_time": "2025-01-17T08:17:40.837904",
     "status": "completed"
    },
    "tags": []
   },
   "source": [
    "# Introduction\n",
    "\n",
    "Run the following cell to load your data and some utility functions."
   ]
  },
  {
   "cell_type": "code",
   "execution_count": 1,
   "id": "2a88aa56",
   "metadata": {
    "execution": {
     "iopub.execute_input": "2025-01-17T08:17:40.850407Z",
     "iopub.status.busy": "2025-01-17T08:17:40.850008Z",
     "iopub.status.idle": "2025-01-17T08:17:44.904458Z",
     "shell.execute_reply": "2025-01-17T08:17:44.903187Z"
    },
    "papermill": {
     "duration": 4.061426,
     "end_time": "2025-01-17T08:17:44.906686",
     "exception": false,
     "start_time": "2025-01-17T08:17:40.845260",
     "status": "completed"
    },
    "tags": []
   },
   "outputs": [
    {
     "name": "stdout",
     "output_type": "stream",
     "text": [
      "Setup complete.\n"
     ]
    }
   ],
   "source": [
    "import pandas as pd\n",
    "\n",
    "reviews = pd.read_csv(\"../input/wine-reviews/winemag-data-130k-v2.csv\", index_col=0)\n",
    "\n",
    "from learntools.core import binder; binder.bind(globals())\n",
    "from learntools.pandas.data_types_and_missing_data import *\n",
    "print(\"Setup complete.\")"
   ]
  },
  {
   "cell_type": "markdown",
   "id": "a398dbef",
   "metadata": {
    "papermill": {
     "duration": 0.003759,
     "end_time": "2025-01-17T08:17:44.914734",
     "exception": false,
     "start_time": "2025-01-17T08:17:44.910975",
     "status": "completed"
    },
    "tags": []
   },
   "source": [
    "# Exercises"
   ]
  },
  {
   "cell_type": "markdown",
   "id": "dd7a81c1",
   "metadata": {
    "papermill": {
     "duration": 0.003446,
     "end_time": "2025-01-17T08:17:44.922049",
     "exception": false,
     "start_time": "2025-01-17T08:17:44.918603",
     "status": "completed"
    },
    "tags": []
   },
   "source": [
    "## 1. \n",
    "What is the data type of the `points` column in the dataset?"
   ]
  },
  {
   "cell_type": "code",
   "execution_count": 2,
   "id": "74b4bbbe",
   "metadata": {
    "execution": {
     "iopub.execute_input": "2025-01-17T08:17:44.930959Z",
     "iopub.status.busy": "2025-01-17T08:17:44.930619Z",
     "iopub.status.idle": "2025-01-17T08:17:44.939942Z",
     "shell.execute_reply": "2025-01-17T08:17:44.939029Z"
    },
    "papermill": {
     "duration": 0.015703,
     "end_time": "2025-01-17T08:17:44.941536",
     "exception": false,
     "start_time": "2025-01-17T08:17:44.925833",
     "status": "completed"
    },
    "tags": []
   },
   "outputs": [
    {
     "data": {
      "application/javascript": [
       "parent.postMessage({\"jupyterEvent\": \"custom.exercise_interaction\", \"data\": {\"outcomeType\": 1, \"valueTowardsCompletion\": 0.25, \"interactionType\": 1, \"questionType\": 1, \"questionId\": \"1_PointsDtype\", \"learnToolsVersion\": \"0.3.4\", \"failureMessage\": \"\", \"exceptionClass\": \"\", \"trace\": \"\"}}, \"*\")"
      ],
      "text/plain": [
       "<IPython.core.display.Javascript object>"
      ]
     },
     "metadata": {},
     "output_type": "display_data"
    },
    {
     "data": {
      "text/markdown": [
       "<span style=\"color:#33cc33\">Correct</span>"
      ],
      "text/plain": [
       "Correct"
      ]
     },
     "metadata": {},
     "output_type": "display_data"
    }
   ],
   "source": [
    "# Your code here\n",
    "dtype = reviews.points.dtype\n",
    "\n",
    "# Check your answer\n",
    "q1.check()"
   ]
  },
  {
   "cell_type": "code",
   "execution_count": 3,
   "id": "825cc911",
   "metadata": {
    "execution": {
     "iopub.execute_input": "2025-01-17T08:17:44.951606Z",
     "iopub.status.busy": "2025-01-17T08:17:44.951214Z",
     "iopub.status.idle": "2025-01-17T08:17:44.955629Z",
     "shell.execute_reply": "2025-01-17T08:17:44.954299Z"
    },
    "papermill": {
     "duration": 0.011577,
     "end_time": "2025-01-17T08:17:44.957428",
     "exception": false,
     "start_time": "2025-01-17T08:17:44.945851",
     "status": "completed"
    },
    "tags": []
   },
   "outputs": [],
   "source": [
    "#q1.hint()\n",
    "#q1.solution()"
   ]
  },
  {
   "cell_type": "markdown",
   "id": "06fc7eda",
   "metadata": {
    "papermill": {
     "duration": 0.004656,
     "end_time": "2025-01-17T08:17:44.966560",
     "exception": false,
     "start_time": "2025-01-17T08:17:44.961904",
     "status": "completed"
    },
    "tags": []
   },
   "source": [
    "## 2. \n",
    "Create a Series from entries in the `points` column, but convert the entries to strings. Hint: strings are `str` in native Python."
   ]
  },
  {
   "cell_type": "code",
   "execution_count": 4,
   "id": "4334c13f",
   "metadata": {
    "execution": {
     "iopub.execute_input": "2025-01-17T08:17:44.976174Z",
     "iopub.status.busy": "2025-01-17T08:17:44.975750Z",
     "iopub.status.idle": "2025-01-17T08:17:45.018840Z",
     "shell.execute_reply": "2025-01-17T08:17:45.017665Z"
    },
    "papermill": {
     "duration": 0.049961,
     "end_time": "2025-01-17T08:17:45.020651",
     "exception": false,
     "start_time": "2025-01-17T08:17:44.970690",
     "status": "completed"
    },
    "tags": []
   },
   "outputs": [
    {
     "data": {
      "application/javascript": [
       "parent.postMessage({\"jupyterEvent\": \"custom.exercise_interaction\", \"data\": {\"outcomeType\": 1, \"valueTowardsCompletion\": 0.25, \"interactionType\": 1, \"questionType\": 1, \"questionId\": \"2_StrPoints\", \"learnToolsVersion\": \"0.3.4\", \"failureMessage\": \"\", \"exceptionClass\": \"\", \"trace\": \"\"}}, \"*\")"
      ],
      "text/plain": [
       "<IPython.core.display.Javascript object>"
      ]
     },
     "metadata": {},
     "output_type": "display_data"
    },
    {
     "data": {
      "text/markdown": [
       "<span style=\"color:#33cc33\">Correct</span>"
      ],
      "text/plain": [
       "Correct"
      ]
     },
     "metadata": {},
     "output_type": "display_data"
    }
   ],
   "source": [
    "point_strings = reviews.points.astype(str)\n",
    "\n",
    "# Check your answer\n",
    "q2.check()"
   ]
  },
  {
   "cell_type": "code",
   "execution_count": 5,
   "id": "37b7f7e6",
   "metadata": {
    "execution": {
     "iopub.execute_input": "2025-01-17T08:17:45.030851Z",
     "iopub.status.busy": "2025-01-17T08:17:45.030464Z",
     "iopub.status.idle": "2025-01-17T08:17:45.034610Z",
     "shell.execute_reply": "2025-01-17T08:17:45.033368Z"
    },
    "papermill": {
     "duration": 0.011232,
     "end_time": "2025-01-17T08:17:45.036395",
     "exception": false,
     "start_time": "2025-01-17T08:17:45.025163",
     "status": "completed"
    },
    "tags": []
   },
   "outputs": [],
   "source": [
    "#q2.hint()\n",
    "#q2.solution()"
   ]
  },
  {
   "cell_type": "markdown",
   "id": "9cc2fd15",
   "metadata": {
    "papermill": {
     "duration": 0.004448,
     "end_time": "2025-01-17T08:17:45.045617",
     "exception": false,
     "start_time": "2025-01-17T08:17:45.041169",
     "status": "completed"
    },
    "tags": []
   },
   "source": [
    "## 3.\n",
    "Sometimes the price column is null. How many reviews in the dataset are missing a price?"
   ]
  },
  {
   "cell_type": "code",
   "execution_count": 6,
   "id": "a1b4dbd6",
   "metadata": {
    "execution": {
     "iopub.execute_input": "2025-01-17T08:17:45.056304Z",
     "iopub.status.busy": "2025-01-17T08:17:45.055873Z",
     "iopub.status.idle": "2025-01-17T08:17:45.065972Z",
     "shell.execute_reply": "2025-01-17T08:17:45.064631Z"
    },
    "papermill": {
     "duration": 0.017581,
     "end_time": "2025-01-17T08:17:45.067895",
     "exception": false,
     "start_time": "2025-01-17T08:17:45.050314",
     "status": "completed"
    },
    "tags": []
   },
   "outputs": [
    {
     "data": {
      "application/javascript": [
       "parent.postMessage({\"jupyterEvent\": \"custom.exercise_interaction\", \"data\": {\"outcomeType\": 1, \"valueTowardsCompletion\": 0.25, \"interactionType\": 1, \"questionType\": 1, \"questionId\": \"3_CountMissingPrices\", \"learnToolsVersion\": \"0.3.4\", \"failureMessage\": \"\", \"exceptionClass\": \"\", \"trace\": \"\"}}, \"*\")"
      ],
      "text/plain": [
       "<IPython.core.display.Javascript object>"
      ]
     },
     "metadata": {},
     "output_type": "display_data"
    },
    {
     "data": {
      "text/markdown": [
       "<span style=\"color:#33cc33\">Correct</span>"
      ],
      "text/plain": [
       "Correct"
      ]
     },
     "metadata": {},
     "output_type": "display_data"
    }
   ],
   "source": [
    "n_missing_prices = pd.isnull(reviews.price).sum()\n",
    "\n",
    "# Check your answer\n",
    "q3.check()"
   ]
  },
  {
   "cell_type": "code",
   "execution_count": 7,
   "id": "e19ebb34",
   "metadata": {
    "execution": {
     "iopub.execute_input": "2025-01-17T08:17:45.079208Z",
     "iopub.status.busy": "2025-01-17T08:17:45.078666Z",
     "iopub.status.idle": "2025-01-17T08:17:45.083110Z",
     "shell.execute_reply": "2025-01-17T08:17:45.081922Z"
    },
    "papermill": {
     "duration": 0.012109,
     "end_time": "2025-01-17T08:17:45.084914",
     "exception": false,
     "start_time": "2025-01-17T08:17:45.072805",
     "status": "completed"
    },
    "tags": []
   },
   "outputs": [],
   "source": [
    "#q3.hint()\n",
    "# q3.solution()"
   ]
  },
  {
   "cell_type": "markdown",
   "id": "f6c825ca",
   "metadata": {
    "papermill": {
     "duration": 0.004375,
     "end_time": "2025-01-17T08:17:45.094241",
     "exception": false,
     "start_time": "2025-01-17T08:17:45.089866",
     "status": "completed"
    },
    "tags": []
   },
   "source": [
    "## 4.\n",
    "What are the most common wine-producing regions? Create a Series counting the number of times each value occurs in the `region_1` field. This field is often missing data, so replace missing values with `Unknown`. Sort in descending order.  Your output should look something like this:\n",
    "\n",
    "```\n",
    "Unknown                    21247\n",
    "Napa Valley                 4480\n",
    "                           ...  \n",
    "Bardolino Superiore            1\n",
    "Primitivo del Tarantino        1\n",
    "Name: region_1, Length: 1230, dtype: int64\n",
    "```"
   ]
  },
  {
   "cell_type": "code",
   "execution_count": 8,
   "id": "c79a3633",
   "metadata": {
    "execution": {
     "iopub.execute_input": "2025-01-17T08:17:45.105175Z",
     "iopub.status.busy": "2025-01-17T08:17:45.104729Z",
     "iopub.status.idle": "2025-01-17T08:17:45.157358Z",
     "shell.execute_reply": "2025-01-17T08:17:45.155901Z"
    },
    "papermill": {
     "duration": 0.060631,
     "end_time": "2025-01-17T08:17:45.159594",
     "exception": false,
     "start_time": "2025-01-17T08:17:45.098963",
     "status": "completed"
    },
    "tags": []
   },
   "outputs": [
    {
     "data": {
      "application/javascript": [
       "parent.postMessage({\"jupyterEvent\": \"custom.exercise_interaction\", \"data\": {\"outcomeType\": 1, \"valueTowardsCompletion\": 0.25, \"interactionType\": 1, \"questionType\": 2, \"questionId\": \"4_ReviewsPerRegion\", \"learnToolsVersion\": \"0.3.4\", \"failureMessage\": \"\", \"exceptionClass\": \"\", \"trace\": \"\"}}, \"*\")"
      ],
      "text/plain": [
       "<IPython.core.display.Javascript object>"
      ]
     },
     "metadata": {},
     "output_type": "display_data"
    },
    {
     "data": {
      "text/markdown": [
       "<span style=\"color:#33cc33\">Correct</span>"
      ],
      "text/plain": [
       "Correct"
      ]
     },
     "metadata": {},
     "output_type": "display_data"
    }
   ],
   "source": [
    "\n",
    "reviews_per_region =reviews.region_1.fillna(\"Unknown\").value_counts().sort_values(ascending=False)\n",
    " \n",
    "# Check your answer\n",
    "q4.check()"
   ]
  },
  {
   "cell_type": "code",
   "execution_count": 9,
   "id": "43d443d3",
   "metadata": {
    "execution": {
     "iopub.execute_input": "2025-01-17T08:17:45.175970Z",
     "iopub.status.busy": "2025-01-17T08:17:45.175545Z",
     "iopub.status.idle": "2025-01-17T08:17:45.180993Z",
     "shell.execute_reply": "2025-01-17T08:17:45.179488Z"
    },
    "papermill": {
     "duration": 0.015637,
     "end_time": "2025-01-17T08:17:45.183513",
     "exception": false,
     "start_time": "2025-01-17T08:17:45.167876",
     "status": "completed"
    },
    "tags": []
   },
   "outputs": [],
   "source": [
    "#q4.hint()\n",
    "# q4.solution()"
   ]
  },
  {
   "cell_type": "markdown",
   "id": "ee5b5248",
   "metadata": {
    "papermill": {
     "duration": 0.00748,
     "end_time": "2025-01-17T08:17:45.197034",
     "exception": false,
     "start_time": "2025-01-17T08:17:45.189554",
     "status": "completed"
    },
    "tags": []
   },
   "source": [
    "# Keep going\n",
    "\n",
    "Move on to **[renaming and combining](https://www.kaggle.com/residentmario/renaming-and-combining)**."
   ]
  },
  {
   "cell_type": "markdown",
   "id": "e8fa9e79",
   "metadata": {
    "papermill": {
     "duration": 0.004821,
     "end_time": "2025-01-17T08:17:45.207157",
     "exception": false,
     "start_time": "2025-01-17T08:17:45.202336",
     "status": "completed"
    },
    "tags": []
   },
   "source": [
    "---\n",
    "\n",
    "\n",
    "\n",
    "\n",
    "*Have questions or comments? Visit the [course discussion forum](https://www.kaggle.com/learn/pandas/discussion) to chat with other learners.*"
   ]
  }
 ],
 "metadata": {
  "kaggle": {
   "accelerator": "none",
   "dataSources": [
    {
     "datasetId": 655,
     "sourceId": 1252,
     "sourceType": "datasetVersion"
    },
    {
     "datasetId": 2321,
     "sourceId": 3919,
     "sourceType": "datasetVersion"
    },
    {
     "datasetId": 2894,
     "sourceId": 4877,
     "sourceType": "datasetVersion"
    },
    {
     "datasetId": 3491,
     "sourceId": 5624,
     "sourceType": "datasetVersion"
    },
    {
     "datasetId": 1442,
     "sourceId": 8172,
     "sourceType": "datasetVersion"
    },
    {
     "datasetId": 9366,
     "sourceId": 13206,
     "sourceType": "datasetVersion"
    },
    {
     "datasetId": 179555,
     "sourceId": 403916,
     "sourceType": "datasetVersion"
    },
    {
     "datasetId": 4549,
     "sourceId": 466349,
     "sourceType": "datasetVersion"
    },
    {
     "datasetId": 2478,
     "sourceId": 1151655,
     "sourceType": "datasetVersion"
    },
    {
     "datasetId": 10128,
     "sourceId": 5438389,
     "sourceType": "datasetVersion"
    }
   ],
   "isGpuEnabled": false,
   "isInternetEnabled": false,
   "language": "python",
   "sourceType": "notebook"
  },
  "kernelspec": {
   "display_name": "Python 3",
   "language": "python",
   "name": "python3"
  },
  "language_info": {
   "codemirror_mode": {
    "name": "ipython",
    "version": 3
   },
   "file_extension": ".py",
   "mimetype": "text/x-python",
   "name": "python",
   "nbconvert_exporter": "python",
   "pygments_lexer": "ipython3",
   "version": "3.10.12"
  },
  "papermill": {
   "default_parameters": {},
   "duration": 8.167559,
   "end_time": "2025-01-17T08:17:45.936890",
   "environment_variables": {},
   "exception": null,
   "input_path": "__notebook__.ipynb",
   "output_path": "__notebook__.ipynb",
   "parameters": {},
   "start_time": "2025-01-17T08:17:37.769331",
   "version": "2.6.0"
  }
 },
 "nbformat": 4,
 "nbformat_minor": 5
}
