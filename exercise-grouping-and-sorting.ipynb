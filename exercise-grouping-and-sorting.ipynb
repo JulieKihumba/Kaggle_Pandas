{
 "cells": [
  {
   "cell_type": "markdown",
   "id": "4b91aa94",
   "metadata": {
    "papermill": {
     "duration": 0.006349,
     "end_time": "2025-01-17T07:30:43.665918",
     "exception": false,
     "start_time": "2025-01-17T07:30:43.659569",
     "status": "completed"
    },
    "tags": []
   },
   "source": [
    "**This notebook is an exercise in the [Pandas](https://www.kaggle.com/learn/pandas) course.  You can reference the tutorial at [this link](https://www.kaggle.com/residentmario/grouping-and-sorting).**\n",
    "\n",
    "---\n"
   ]
  },
  {
   "cell_type": "markdown",
   "id": "7992de43",
   "metadata": {
    "papermill": {
     "duration": 0.0054,
     "end_time": "2025-01-17T07:30:43.677268",
     "exception": false,
     "start_time": "2025-01-17T07:30:43.671868",
     "status": "completed"
    },
    "tags": []
   },
   "source": [
    "# Introduction\n",
    "\n",
    "In these exercises we'll apply groupwise analysis to our dataset.\n",
    "\n",
    "Run the code cell below to load the data before running the exercises."
   ]
  },
  {
   "cell_type": "code",
   "execution_count": 1,
   "id": "995fc783",
   "metadata": {
    "execution": {
     "iopub.execute_input": "2025-01-17T07:30:43.690452Z",
     "iopub.status.busy": "2025-01-17T07:30:43.689883Z",
     "iopub.status.idle": "2025-01-17T07:30:48.070329Z",
     "shell.execute_reply": "2025-01-17T07:30:48.068608Z"
    },
    "papermill": {
     "duration": 4.389886,
     "end_time": "2025-01-17T07:30:48.072845",
     "exception": false,
     "start_time": "2025-01-17T07:30:43.682959",
     "status": "completed"
    },
    "tags": []
   },
   "outputs": [
    {
     "name": "stdout",
     "output_type": "stream",
     "text": [
      "Setup complete.\n"
     ]
    },
    {
     "name": "stderr",
     "output_type": "stream",
     "text": [
      "/usr/local/lib/python3.10/dist-packages/learntools/pandas/grouping_and_sorting.py:29: FutureWarning: The provided callable <built-in function min> is currently using SeriesGroupBy.min. In a future version of pandas, the provided callable will be used directly. To keep current behavior pass the string \"min\" instead.\n",
      "  _expected = reviews.groupby('variety').price.agg([min, max])\n",
      "/usr/local/lib/python3.10/dist-packages/learntools/pandas/grouping_and_sorting.py:29: FutureWarning: The provided callable <built-in function max> is currently using SeriesGroupBy.max. In a future version of pandas, the provided callable will be used directly. To keep current behavior pass the string \"max\" instead.\n",
      "  _expected = reviews.groupby('variety').price.agg([min, max])\n",
      "/usr/local/lib/python3.10/dist-packages/learntools/pandas/grouping_and_sorting.py:35: FutureWarning: The provided callable <built-in function min> is currently using SeriesGroupBy.min. In a future version of pandas, the provided callable will be used directly. To keep current behavior pass the string \"min\" instead.\n",
      "  _expected = reviews.groupby('variety').price.agg([min, max]).sort_values(by=['min', 'max'], ascending=False)\n",
      "/usr/local/lib/python3.10/dist-packages/learntools/pandas/grouping_and_sorting.py:35: FutureWarning: The provided callable <built-in function max> is currently using SeriesGroupBy.max. In a future version of pandas, the provided callable will be used directly. To keep current behavior pass the string \"max\" instead.\n",
      "  _expected = reviews.groupby('variety').price.agg([min, max]).sort_values(by=['min', 'max'], ascending=False)\n"
     ]
    }
   ],
   "source": [
    "import pandas as pd\n",
    "\n",
    "reviews = pd.read_csv(\"../input/wine-reviews/winemag-data-130k-v2.csv\", index_col=0)\n",
    "#pd.set_option(\"display.max_rows\", 5)\n",
    "\n",
    "from learntools.core import binder; binder.bind(globals())\n",
    "from learntools.pandas.grouping_and_sorting import *\n",
    "print(\"Setup complete.\")"
   ]
  },
  {
   "cell_type": "markdown",
   "id": "6e5a34d6",
   "metadata": {
    "papermill": {
     "duration": 0.005392,
     "end_time": "2025-01-17T07:30:48.084840",
     "exception": false,
     "start_time": "2025-01-17T07:30:48.079448",
     "status": "completed"
    },
    "tags": []
   },
   "source": [
    "# Exercises"
   ]
  },
  {
   "cell_type": "markdown",
   "id": "dd60df71",
   "metadata": {
    "papermill": {
     "duration": 0.005236,
     "end_time": "2025-01-17T07:30:48.095602",
     "exception": false,
     "start_time": "2025-01-17T07:30:48.090366",
     "status": "completed"
    },
    "tags": []
   },
   "source": [
    "## 1.\n",
    "Who are the most common wine reviewers in the dataset? Create a `Series` whose index is the `taster_twitter_handle` category from the dataset, and whose values count how many reviews each person wrote."
   ]
  },
  {
   "cell_type": "code",
   "execution_count": 2,
   "id": "2ef7a245",
   "metadata": {
    "execution": {
     "iopub.execute_input": "2025-01-17T07:30:48.108134Z",
     "iopub.status.busy": "2025-01-17T07:30:48.107727Z",
     "iopub.status.idle": "2025-01-17T07:30:48.134332Z",
     "shell.execute_reply": "2025-01-17T07:30:48.132831Z"
    },
    "papermill": {
     "duration": 0.03527,
     "end_time": "2025-01-17T07:30:48.136440",
     "exception": false,
     "start_time": "2025-01-17T07:30:48.101170",
     "status": "completed"
    },
    "tags": []
   },
   "outputs": [
    {
     "data": {
      "application/javascript": [
       "parent.postMessage({\"jupyterEvent\": \"custom.exercise_interaction\", \"data\": {\"outcomeType\": 1, \"valueTowardsCompletion\": 0.16666666666666666, \"interactionType\": 1, \"questionType\": 1, \"questionId\": \"1_ReviewsWritten\", \"learnToolsVersion\": \"0.3.4\", \"failureMessage\": \"\", \"exceptionClass\": \"\", \"trace\": \"\"}}, \"*\")"
      ],
      "text/plain": [
       "<IPython.core.display.Javascript object>"
      ]
     },
     "metadata": {},
     "output_type": "display_data"
    },
    {
     "data": {
      "text/markdown": [
       "<span style=\"color:#33cc33\">Correct:</span> \n",
       "\n",
       "\n",
       "```python\n",
       "reviews_written = reviews.groupby('taster_twitter_handle').size()\n",
       "```\n",
       "or\n",
       "```python\n",
       "reviews_written = reviews.groupby('taster_twitter_handle').taster_twitter_handle.count()\n",
       "```\n"
      ],
      "text/plain": [
       "Correct: \n",
       "\n",
       "\n",
       "```python\n",
       "reviews_written = reviews.groupby('taster_twitter_handle').size()\n",
       "```\n",
       "or\n",
       "```python\n",
       "reviews_written = reviews.groupby('taster_twitter_handle').taster_twitter_handle.count()\n",
       "```"
      ]
     },
     "metadata": {},
     "output_type": "display_data"
    }
   ],
   "source": [
    "# Your code here\n",
    "# group the taster_twitter_handle\n",
    "\n",
    "reviews_written = reviews.groupby('taster_twitter_handle').taster_name.count()\n",
    "\n",
    "# Check your answer\n",
    "q1.check()"
   ]
  },
  {
   "cell_type": "code",
   "execution_count": 3,
   "id": "50e3970a",
   "metadata": {
    "execution": {
     "iopub.execute_input": "2025-01-17T07:30:48.150627Z",
     "iopub.status.busy": "2025-01-17T07:30:48.150293Z",
     "iopub.status.idle": "2025-01-17T07:30:48.154731Z",
     "shell.execute_reply": "2025-01-17T07:30:48.153453Z"
    },
    "papermill": {
     "duration": 0.014078,
     "end_time": "2025-01-17T07:30:48.156922",
     "exception": false,
     "start_time": "2025-01-17T07:30:48.142844",
     "status": "completed"
    },
    "tags": []
   },
   "outputs": [],
   "source": [
    "#q1.hint()\n",
    "#q1.solution()"
   ]
  },
  {
   "cell_type": "markdown",
   "id": "3e569883",
   "metadata": {
    "papermill": {
     "duration": 0.005929,
     "end_time": "2025-01-17T07:30:48.169389",
     "exception": false,
     "start_time": "2025-01-17T07:30:48.163460",
     "status": "completed"
    },
    "tags": []
   },
   "source": [
    "## 2.\n",
    "What is the best wine I can buy for a given amount of money? Create a `Series` whose index is wine prices and whose values is the maximum number of points a wine costing that much was given in a review. Sort the values by price, ascending (so that `4.0` dollars is at the top and `3300.0` dollars is at the bottom)."
   ]
  },
  {
   "cell_type": "code",
   "execution_count": 4,
   "id": "4b8ec9fa",
   "metadata": {
    "execution": {
     "iopub.execute_input": "2025-01-17T07:30:48.183761Z",
     "iopub.status.busy": "2025-01-17T07:30:48.183400Z",
     "iopub.status.idle": "2025-01-17T07:30:48.196462Z",
     "shell.execute_reply": "2025-01-17T07:30:48.195186Z"
    },
    "papermill": {
     "duration": 0.022596,
     "end_time": "2025-01-17T07:30:48.198521",
     "exception": false,
     "start_time": "2025-01-17T07:30:48.175925",
     "status": "completed"
    },
    "tags": []
   },
   "outputs": [
    {
     "data": {
      "application/javascript": [
       "parent.postMessage({\"jupyterEvent\": \"custom.exercise_interaction\", \"data\": {\"outcomeType\": 1, \"valueTowardsCompletion\": 0.16666666666666666, \"interactionType\": 1, \"questionType\": 1, \"questionId\": \"2_BestRatingPerPrice\", \"learnToolsVersion\": \"0.3.4\", \"failureMessage\": \"\", \"exceptionClass\": \"\", \"trace\": \"\"}}, \"*\")"
      ],
      "text/plain": [
       "<IPython.core.display.Javascript object>"
      ]
     },
     "metadata": {},
     "output_type": "display_data"
    },
    {
     "data": {
      "text/markdown": [
       "<span style=\"color:#33cc33\">Correct</span>"
      ],
      "text/plain": [
       "Correct"
      ]
     },
     "metadata": {},
     "output_type": "display_data"
    }
   ],
   "source": [
    "# group by  wine prices\n",
    "\n",
    "best_rating_per_price = reviews.groupby('price').points.max()\n",
    "# Check your answer\n",
    "q2.check()"
   ]
  },
  {
   "cell_type": "code",
   "execution_count": 5,
   "id": "3621b9dc",
   "metadata": {
    "execution": {
     "iopub.execute_input": "2025-01-17T07:30:48.212346Z",
     "iopub.status.busy": "2025-01-17T07:30:48.211964Z",
     "iopub.status.idle": "2025-01-17T07:30:48.216185Z",
     "shell.execute_reply": "2025-01-17T07:30:48.215140Z"
    },
    "papermill": {
     "duration": 0.013207,
     "end_time": "2025-01-17T07:30:48.218167",
     "exception": false,
     "start_time": "2025-01-17T07:30:48.204960",
     "status": "completed"
    },
    "tags": []
   },
   "outputs": [],
   "source": [
    "#q2.hint()\n",
    "# q2.solution()"
   ]
  },
  {
   "cell_type": "markdown",
   "id": "e987fb2d",
   "metadata": {
    "papermill": {
     "duration": 0.006194,
     "end_time": "2025-01-17T07:30:48.230976",
     "exception": false,
     "start_time": "2025-01-17T07:30:48.224782",
     "status": "completed"
    },
    "tags": []
   },
   "source": [
    "## 3.\n",
    "What are the minimum and maximum prices for each `variety` of wine? Create a `DataFrame` whose index is the `variety` category from the dataset and whose values are the `min` and `max` values thereof."
   ]
  },
  {
   "cell_type": "code",
   "execution_count": 6,
   "id": "989b4cd6",
   "metadata": {
    "execution": {
     "iopub.execute_input": "2025-01-17T07:30:48.245235Z",
     "iopub.status.busy": "2025-01-17T07:30:48.244821Z",
     "iopub.status.idle": "2025-01-17T07:30:48.269967Z",
     "shell.execute_reply": "2025-01-17T07:30:48.268457Z"
    },
    "papermill": {
     "duration": 0.034287,
     "end_time": "2025-01-17T07:30:48.271799",
     "exception": false,
     "start_time": "2025-01-17T07:30:48.237512",
     "status": "completed"
    },
    "tags": []
   },
   "outputs": [
    {
     "name": "stderr",
     "output_type": "stream",
     "text": [
      "<ipython-input-6-a461575a54ce>:2: FutureWarning: The provided callable <built-in function min> is currently using SeriesGroupBy.min. In a future version of pandas, the provided callable will be used directly. To keep current behavior pass the string \"min\" instead.\n",
      "  price_extremes = reviews.groupby('variety').price.agg([min, max])\n",
      "<ipython-input-6-a461575a54ce>:2: FutureWarning: The provided callable <built-in function max> is currently using SeriesGroupBy.max. In a future version of pandas, the provided callable will be used directly. To keep current behavior pass the string \"max\" instead.\n",
      "  price_extremes = reviews.groupby('variety').price.agg([min, max])\n"
     ]
    },
    {
     "data": {
      "application/javascript": [
       "parent.postMessage({\"jupyterEvent\": \"custom.exercise_interaction\", \"data\": {\"outcomeType\": 1, \"valueTowardsCompletion\": 0.16666666666666666, \"interactionType\": 1, \"questionType\": 1, \"questionId\": \"3_PriceExtremes\", \"learnToolsVersion\": \"0.3.4\", \"failureMessage\": \"\", \"exceptionClass\": \"\", \"trace\": \"\"}}, \"*\")"
      ],
      "text/plain": [
       "<IPython.core.display.Javascript object>"
      ]
     },
     "metadata": {},
     "output_type": "display_data"
    },
    {
     "data": {
      "text/markdown": [
       "<span style=\"color:#33cc33\">Correct</span>"
      ],
      "text/plain": [
       "Correct"
      ]
     },
     "metadata": {},
     "output_type": "display_data"
    }
   ],
   "source": [
    "# grouping by variety and then using agg()\n",
    "price_extremes = reviews.groupby('variety').price.agg([min, max])\n",
    "\n",
    "# Check your answer\n",
    "q3.check()"
   ]
  },
  {
   "cell_type": "code",
   "execution_count": 7,
   "id": "814ba8d5",
   "metadata": {
    "execution": {
     "iopub.execute_input": "2025-01-17T07:30:48.286396Z",
     "iopub.status.busy": "2025-01-17T07:30:48.285959Z",
     "iopub.status.idle": "2025-01-17T07:30:48.290942Z",
     "shell.execute_reply": "2025-01-17T07:30:48.289524Z"
    },
    "papermill": {
     "duration": 0.014441,
     "end_time": "2025-01-17T07:30:48.292808",
     "exception": false,
     "start_time": "2025-01-17T07:30:48.278367",
     "status": "completed"
    },
    "tags": []
   },
   "outputs": [],
   "source": [
    "#q3.hint()\n",
    "# q3.solution()"
   ]
  },
  {
   "cell_type": "markdown",
   "id": "5ffc49a8",
   "metadata": {
    "papermill": {
     "duration": 0.006129,
     "end_time": "2025-01-17T07:30:48.305702",
     "exception": false,
     "start_time": "2025-01-17T07:30:48.299573",
     "status": "completed"
    },
    "tags": []
   },
   "source": [
    "## 4.\n",
    "What are the most expensive wine varieties? Create a variable `sorted_varieties` containing a copy of the dataframe from the previous question where varieties are sorted in descending order based on minimum price, then on maximum price (to break ties)."
   ]
  },
  {
   "cell_type": "code",
   "execution_count": 8,
   "id": "566dc934",
   "metadata": {
    "execution": {
     "iopub.execute_input": "2025-01-17T07:30:48.319919Z",
     "iopub.status.busy": "2025-01-17T07:30:48.319493Z",
     "iopub.status.idle": "2025-01-17T07:30:48.331064Z",
     "shell.execute_reply": "2025-01-17T07:30:48.329549Z"
    },
    "papermill": {
     "duration": 0.021138,
     "end_time": "2025-01-17T07:30:48.333150",
     "exception": false,
     "start_time": "2025-01-17T07:30:48.312012",
     "status": "completed"
    },
    "tags": []
   },
   "outputs": [
    {
     "data": {
      "application/javascript": [
       "parent.postMessage({\"jupyterEvent\": \"custom.exercise_interaction\", \"data\": {\"outcomeType\": 1, \"valueTowardsCompletion\": 0.16666666666666666, \"interactionType\": 1, \"questionType\": 1, \"questionId\": \"4_SortedVarieties\", \"learnToolsVersion\": \"0.3.4\", \"failureMessage\": \"\", \"exceptionClass\": \"\", \"trace\": \"\"}}, \"*\")"
      ],
      "text/plain": [
       "<IPython.core.display.Javascript object>"
      ]
     },
     "metadata": {},
     "output_type": "display_data"
    },
    {
     "data": {
      "text/markdown": [
       "<span style=\"color:#33cc33\">Correct</span>"
      ],
      "text/plain": [
       "Correct"
      ]
     },
     "metadata": {},
     "output_type": "display_data"
    }
   ],
   "source": [
    "sorted_varieties = price_extremes.sort_values(by= ['min','max'], ascending=False)\n",
    "\n",
    "# Check your answer\n",
    "q4.check()"
   ]
  },
  {
   "cell_type": "code",
   "execution_count": 9,
   "id": "9a35f7b6",
   "metadata": {
    "execution": {
     "iopub.execute_input": "2025-01-17T07:30:48.352028Z",
     "iopub.status.busy": "2025-01-17T07:30:48.351605Z",
     "iopub.status.idle": "2025-01-17T07:30:48.356849Z",
     "shell.execute_reply": "2025-01-17T07:30:48.355113Z"
    },
    "papermill": {
     "duration": 0.017129,
     "end_time": "2025-01-17T07:30:48.359256",
     "exception": false,
     "start_time": "2025-01-17T07:30:48.342127",
     "status": "completed"
    },
    "tags": []
   },
   "outputs": [],
   "source": [
    "#q4.hint()\n",
    "# q4.solution()"
   ]
  },
  {
   "cell_type": "markdown",
   "id": "2921dc7e",
   "metadata": {
    "papermill": {
     "duration": 0.010302,
     "end_time": "2025-01-17T07:30:48.381052",
     "exception": false,
     "start_time": "2025-01-17T07:30:48.370750",
     "status": "completed"
    },
    "tags": []
   },
   "source": [
    "## 5.\n",
    "Create a `Series` whose index is reviewers and whose values is the average review score given out by that reviewer. Hint: you will need the `taster_name` and `points` columns."
   ]
  },
  {
   "cell_type": "code",
   "execution_count": 10,
   "id": "e8a7b984",
   "metadata": {
    "execution": {
     "iopub.execute_input": "2025-01-17T07:30:48.399246Z",
     "iopub.status.busy": "2025-01-17T07:30:48.398807Z",
     "iopub.status.idle": "2025-01-17T07:30:48.424769Z",
     "shell.execute_reply": "2025-01-17T07:30:48.422839Z"
    },
    "papermill": {
     "duration": 0.037509,
     "end_time": "2025-01-17T07:30:48.427083",
     "exception": false,
     "start_time": "2025-01-17T07:30:48.389574",
     "status": "completed"
    },
    "tags": []
   },
   "outputs": [
    {
     "data": {
      "application/javascript": [
       "parent.postMessage({\"jupyterEvent\": \"custom.exercise_interaction\", \"data\": {\"outcomeType\": 1, \"valueTowardsCompletion\": 0.16666666666666666, \"interactionType\": 1, \"questionType\": 1, \"questionId\": \"5_ReviewerMeanRatings\", \"learnToolsVersion\": \"0.3.4\", \"failureMessage\": \"\", \"exceptionClass\": \"\", \"trace\": \"\"}}, \"*\")"
      ],
      "text/plain": [
       "<IPython.core.display.Javascript object>"
      ]
     },
     "metadata": {},
     "output_type": "display_data"
    },
    {
     "data": {
      "text/markdown": [
       "<span style=\"color:#33cc33\">Correct</span>"
      ],
      "text/plain": [
       "Correct"
      ]
     },
     "metadata": {},
     "output_type": "display_data"
    }
   ],
   "source": [
    "# we'll groub by taster_name and then get the average of the points;ie;MEAN\n",
    "reviewer_mean_ratings = reviews.groupby(['taster_name']).points.mean()\n",
    "\n",
    "# Check your answer\n",
    "q5.check()"
   ]
  },
  {
   "cell_type": "code",
   "execution_count": 11,
   "id": "aaa14462",
   "metadata": {
    "execution": {
     "iopub.execute_input": "2025-01-17T07:30:48.443486Z",
     "iopub.status.busy": "2025-01-17T07:30:48.443067Z",
     "iopub.status.idle": "2025-01-17T07:30:48.447900Z",
     "shell.execute_reply": "2025-01-17T07:30:48.446393Z"
    },
    "papermill": {
     "duration": 0.016071,
     "end_time": "2025-01-17T07:30:48.450302",
     "exception": false,
     "start_time": "2025-01-17T07:30:48.434231",
     "status": "completed"
    },
    "tags": []
   },
   "outputs": [],
   "source": [
    "#q5.hint()\n",
    "#q5.solution()"
   ]
  },
  {
   "cell_type": "markdown",
   "id": "1a40c27a",
   "metadata": {
    "papermill": {
     "duration": 0.006878,
     "end_time": "2025-01-17T07:30:48.465406",
     "exception": false,
     "start_time": "2025-01-17T07:30:48.458528",
     "status": "completed"
    },
    "tags": []
   },
   "source": [
    "Are there significant differences in the average scores assigned by the various reviewers? Run the cell below to use the `describe()` method to see a summary of the range of values."
   ]
  },
  {
   "cell_type": "code",
   "execution_count": 12,
   "id": "1031dc45",
   "metadata": {
    "execution": {
     "iopub.execute_input": "2025-01-17T07:30:48.485050Z",
     "iopub.status.busy": "2025-01-17T07:30:48.484652Z",
     "iopub.status.idle": "2025-01-17T07:30:48.498697Z",
     "shell.execute_reply": "2025-01-17T07:30:48.497553Z"
    },
    "papermill": {
     "duration": 0.02725,
     "end_time": "2025-01-17T07:30:48.501284",
     "exception": false,
     "start_time": "2025-01-17T07:30:48.474034",
     "status": "completed"
    },
    "tags": []
   },
   "outputs": [
    {
     "data": {
      "text/plain": [
       "count    19.000000\n",
       "mean     88.233026\n",
       "std       1.243610\n",
       "min      85.855422\n",
       "25%      87.323501\n",
       "50%      88.536235\n",
       "75%      88.975256\n",
       "max      90.562551\n",
       "Name: points, dtype: float64"
      ]
     },
     "execution_count": 12,
     "metadata": {},
     "output_type": "execute_result"
    }
   ],
   "source": [
    "reviewer_mean_ratings.describe()"
   ]
  },
  {
   "cell_type": "markdown",
   "id": "835382be",
   "metadata": {
    "papermill": {
     "duration": 0.011986,
     "end_time": "2025-01-17T07:30:48.523763",
     "exception": false,
     "start_time": "2025-01-17T07:30:48.511777",
     "status": "completed"
    },
    "tags": []
   },
   "source": [
    "## 6.\n",
    "What combination of countries and varieties are most common? Create a `Series` whose index is a `MultiIndex`of `{country, variety}` pairs. For example, a pinot noir produced in the US should map to `{\"US\", \"Pinot Noir\"}`. Sort the values in the `Series` in descending order based on wine count."
   ]
  },
  {
   "cell_type": "code",
   "execution_count": 13,
   "id": "57600e0f",
   "metadata": {
    "execution": {
     "iopub.execute_input": "2025-01-17T07:30:48.545739Z",
     "iopub.status.busy": "2025-01-17T07:30:48.545314Z",
     "iopub.status.idle": "2025-01-17T07:30:48.586433Z",
     "shell.execute_reply": "2025-01-17T07:30:48.585365Z"
    },
    "papermill": {
     "duration": 0.051961,
     "end_time": "2025-01-17T07:30:48.588275",
     "exception": false,
     "start_time": "2025-01-17T07:30:48.536314",
     "status": "completed"
    },
    "tags": []
   },
   "outputs": [
    {
     "data": {
      "application/javascript": [
       "parent.postMessage({\"jupyterEvent\": \"custom.exercise_interaction\", \"data\": {\"outcomeType\": 1, \"valueTowardsCompletion\": 0.16666666666666666, \"interactionType\": 1, \"questionType\": 1, \"questionId\": \"6_GroupbyCountryVariety\", \"learnToolsVersion\": \"0.3.4\", \"failureMessage\": \"\", \"exceptionClass\": \"\", \"trace\": \"\"}}, \"*\")"
      ],
      "text/plain": [
       "<IPython.core.display.Javascript object>"
      ]
     },
     "metadata": {},
     "output_type": "display_data"
    },
    {
     "data": {
      "text/markdown": [
       "<span style=\"color:#33cc33\">Correct</span>"
      ],
      "text/plain": [
       "Correct"
      ]
     },
     "metadata": {},
     "output_type": "display_data"
    }
   ],
   "source": [
    "country_variety_counts = reviews.groupby(['country','variety']).size().sort_values(ascending=False)\n",
    "\n",
    "\n",
    "# Check your answer\n",
    "q6.check()"
   ]
  },
  {
   "cell_type": "code",
   "execution_count": 14,
   "id": "33cb4c7d",
   "metadata": {
    "execution": {
     "iopub.execute_input": "2025-01-17T07:30:48.606141Z",
     "iopub.status.busy": "2025-01-17T07:30:48.605606Z",
     "iopub.status.idle": "2025-01-17T07:30:48.615051Z",
     "shell.execute_reply": "2025-01-17T07:30:48.613528Z"
    },
    "papermill": {
     "duration": 0.021572,
     "end_time": "2025-01-17T07:30:48.617599",
     "exception": false,
     "start_time": "2025-01-17T07:30:48.596027",
     "status": "completed"
    },
    "tags": []
   },
   "outputs": [
    {
     "data": {
      "application/javascript": [
       "parent.postMessage({\"jupyterEvent\": \"custom.exercise_interaction\", \"data\": {\"interactionType\": 3, \"questionType\": 1, \"questionId\": \"6_GroupbyCountryVariety\", \"learnToolsVersion\": \"0.3.4\", \"valueTowardsCompletion\": 0.0, \"failureMessage\": \"\", \"exceptionClass\": \"\", \"trace\": \"\", \"outcomeType\": 4}}, \"*\")"
      ],
      "text/plain": [
       "<IPython.core.display.Javascript object>"
      ]
     },
     "metadata": {},
     "output_type": "display_data"
    },
    {
     "data": {
      "text/markdown": [
       "<span style=\"color:#33cc99\">Solution:</span> \n",
       "```python\n",
       "country_variety_counts = reviews.groupby(['country', 'variety']).size().sort_values(ascending=False)\n",
       "```"
      ],
      "text/plain": [
       "Solution: \n",
       "```python\n",
       "country_variety_counts = reviews.groupby(['country', 'variety']).size().sort_values(ascending=False)\n",
       "```"
      ]
     },
     "metadata": {},
     "output_type": "display_data"
    }
   ],
   "source": [
    "#q6.hint()\n",
    "q6.solution()"
   ]
  },
  {
   "cell_type": "markdown",
   "id": "268a0edc",
   "metadata": {
    "papermill": {
     "duration": 0.007143,
     "end_time": "2025-01-17T07:30:48.632629",
     "exception": false,
     "start_time": "2025-01-17T07:30:48.625486",
     "status": "completed"
    },
    "tags": []
   },
   "source": [
    "# Keep going\n",
    "\n",
    "Move on to the [**data types and missing data**](https://www.kaggle.com/residentmario/data-types-and-missing-values)."
   ]
  },
  {
   "cell_type": "markdown",
   "id": "58255758",
   "metadata": {
    "papermill": {
     "duration": 0.007158,
     "end_time": "2025-01-17T07:30:48.647404",
     "exception": false,
     "start_time": "2025-01-17T07:30:48.640246",
     "status": "completed"
    },
    "tags": []
   },
   "source": [
    "---\n",
    "\n",
    "\n",
    "\n",
    "\n",
    "*Have questions or comments? Visit the [course discussion forum](https://www.kaggle.com/learn/pandas/discussion) to chat with other learners.*"
   ]
  }
 ],
 "metadata": {
  "kaggle": {
   "accelerator": "none",
   "dataSources": [
    {
     "datasetId": 655,
     "sourceId": 1252,
     "sourceType": "datasetVersion"
    },
    {
     "datasetId": 2321,
     "sourceId": 3919,
     "sourceType": "datasetVersion"
    },
    {
     "datasetId": 2894,
     "sourceId": 4877,
     "sourceType": "datasetVersion"
    },
    {
     "datasetId": 3491,
     "sourceId": 5624,
     "sourceType": "datasetVersion"
    },
    {
     "datasetId": 1442,
     "sourceId": 8172,
     "sourceType": "datasetVersion"
    },
    {
     "datasetId": 9366,
     "sourceId": 13206,
     "sourceType": "datasetVersion"
    },
    {
     "datasetId": 179555,
     "sourceId": 403916,
     "sourceType": "datasetVersion"
    },
    {
     "datasetId": 4549,
     "sourceId": 466349,
     "sourceType": "datasetVersion"
    },
    {
     "datasetId": 2478,
     "sourceId": 1151655,
     "sourceType": "datasetVersion"
    },
    {
     "datasetId": 10128,
     "sourceId": 5438389,
     "sourceType": "datasetVersion"
    }
   ],
   "isGpuEnabled": false,
   "isInternetEnabled": false,
   "language": "python",
   "sourceType": "notebook"
  },
  "kernelspec": {
   "display_name": "Python 3",
   "language": "python",
   "name": "python3"
  },
  "language_info": {
   "codemirror_mode": {
    "name": "ipython",
    "version": 3
   },
   "file_extension": ".py",
   "mimetype": "text/x-python",
   "name": "python",
   "nbconvert_exporter": "python",
   "pygments_lexer": "ipython3",
   "version": "3.10.12"
  },
  "papermill": {
   "default_parameters": {},
   "duration": 8.912211,
   "end_time": "2025-01-17T07:30:49.381526",
   "environment_variables": {},
   "exception": null,
   "input_path": "__notebook__.ipynb",
   "output_path": "__notebook__.ipynb",
   "parameters": {},
   "start_time": "2025-01-17T07:30:40.469315",
   "version": "2.6.0"
  }
 },
 "nbformat": 4,
 "nbformat_minor": 5
}
